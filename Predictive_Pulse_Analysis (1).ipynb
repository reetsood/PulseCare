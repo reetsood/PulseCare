{
 "cells": [
  {
   "cell_type": "code",
   "execution_count": 5,
   "id": "21a708c8-c324-4320-90c5-ba21f2ccbdd6",
   "metadata": {},
   "outputs": [],
   "source": [
    "#Import Libraries\n",
    "import pandas as pd\n",
    "import numpy as np\n",
    "import matplotlib.pyplot as plt\n",
    "import seaborn as sns"
   ]
  },
  {
   "cell_type": "code",
   "execution_count": 6,
   "id": "7061c2f3-1508-48f1-b6de-08de47309131",
   "metadata": {},
   "outputs": [
    {
     "data": {
      "text/html": [
       "<div>\n",
       "<style scoped>\n",
       "    .dataframe tbody tr th:only-of-type {\n",
       "        vertical-align: middle;\n",
       "    }\n",
       "\n",
       "    .dataframe tbody tr th {\n",
       "        vertical-align: top;\n",
       "    }\n",
       "\n",
       "    .dataframe thead th {\n",
       "        text-align: right;\n",
       "    }\n",
       "</style>\n",
       "<table border=\"1\" class=\"dataframe\">\n",
       "  <thead>\n",
       "    <tr style=\"text-align: right;\">\n",
       "      <th></th>\n",
       "      <th>C</th>\n",
       "      <th>Age</th>\n",
       "      <th>History</th>\n",
       "      <th>Patient</th>\n",
       "      <th>TakeMedication</th>\n",
       "      <th>Severity</th>\n",
       "      <th>BreathShortness</th>\n",
       "      <th>VisualChanges</th>\n",
       "      <th>NoseBleeding</th>\n",
       "      <th>Whendiagnoused</th>\n",
       "      <th>Systolic</th>\n",
       "      <th>Diastolic</th>\n",
       "      <th>ControlledDiet</th>\n",
       "      <th>Stages</th>\n",
       "    </tr>\n",
       "  </thead>\n",
       "  <tbody>\n",
       "    <tr>\n",
       "      <th>0</th>\n",
       "      <td>Male</td>\n",
       "      <td>18-34</td>\n",
       "      <td>Yes</td>\n",
       "      <td>No</td>\n",
       "      <td>No</td>\n",
       "      <td>Mild</td>\n",
       "      <td>No</td>\n",
       "      <td>No</td>\n",
       "      <td>No</td>\n",
       "      <td>&lt;1 Year</td>\n",
       "      <td>111 - 120</td>\n",
       "      <td>81 - 90</td>\n",
       "      <td>No</td>\n",
       "      <td>HYPERTENSION (Stage-1)</td>\n",
       "    </tr>\n",
       "    <tr>\n",
       "      <th>1</th>\n",
       "      <td>Female</td>\n",
       "      <td>18-34</td>\n",
       "      <td>Yes</td>\n",
       "      <td>No</td>\n",
       "      <td>No</td>\n",
       "      <td>Mild</td>\n",
       "      <td>No</td>\n",
       "      <td>No</td>\n",
       "      <td>No</td>\n",
       "      <td>&lt;1 Year</td>\n",
       "      <td>111 - 120</td>\n",
       "      <td>81 - 90</td>\n",
       "      <td>No</td>\n",
       "      <td>HYPERTENSION (Stage-1)</td>\n",
       "    </tr>\n",
       "    <tr>\n",
       "      <th>2</th>\n",
       "      <td>Male</td>\n",
       "      <td>35-50</td>\n",
       "      <td>Yes</td>\n",
       "      <td>No</td>\n",
       "      <td>No</td>\n",
       "      <td>Mild</td>\n",
       "      <td>No</td>\n",
       "      <td>No</td>\n",
       "      <td>No</td>\n",
       "      <td>&lt;1 Year</td>\n",
       "      <td>111 - 120</td>\n",
       "      <td>81 - 90</td>\n",
       "      <td>No</td>\n",
       "      <td>HYPERTENSION (Stage-1)</td>\n",
       "    </tr>\n",
       "    <tr>\n",
       "      <th>3</th>\n",
       "      <td>Female</td>\n",
       "      <td>35-50</td>\n",
       "      <td>Yes</td>\n",
       "      <td>No</td>\n",
       "      <td>No</td>\n",
       "      <td>Mild</td>\n",
       "      <td>No</td>\n",
       "      <td>No</td>\n",
       "      <td>No</td>\n",
       "      <td>&lt;1 Year</td>\n",
       "      <td>111 - 120</td>\n",
       "      <td>81 - 90</td>\n",
       "      <td>No</td>\n",
       "      <td>HYPERTENSION (Stage-1)</td>\n",
       "    </tr>\n",
       "    <tr>\n",
       "      <th>4</th>\n",
       "      <td>Male</td>\n",
       "      <td>51-64</td>\n",
       "      <td>Yes</td>\n",
       "      <td>No</td>\n",
       "      <td>No</td>\n",
       "      <td>Mild</td>\n",
       "      <td>No</td>\n",
       "      <td>No</td>\n",
       "      <td>No</td>\n",
       "      <td>&lt;1 Year</td>\n",
       "      <td>111 - 120</td>\n",
       "      <td>81 - 90</td>\n",
       "      <td>No</td>\n",
       "      <td>HYPERTENSION (Stage-1)</td>\n",
       "    </tr>\n",
       "  </tbody>\n",
       "</table>\n",
       "</div>"
      ],
      "text/plain": [
       "        C    Age History Patient TakeMedication Severity BreathShortness  \\\n",
       "0    Male  18-34     Yes      No             No     Mild              No   \n",
       "1  Female  18-34     Yes      No             No     Mild              No   \n",
       "2    Male  35-50     Yes      No             No     Mild              No   \n",
       "3  Female  35-50     Yes      No             No     Mild              No   \n",
       "4    Male  51-64     Yes      No             No     Mild              No   \n",
       "\n",
       "  VisualChanges NoseBleeding Whendiagnoused   Systolic Diastolic  \\\n",
       "0            No          No         <1 Year  111 - 120   81 - 90   \n",
       "1            No          No         <1 Year  111 - 120   81 - 90   \n",
       "2            No          No         <1 Year  111 - 120   81 - 90   \n",
       "3            No          No         <1 Year  111 - 120   81 - 90   \n",
       "4            No          No         <1 Year  111 - 120   81 - 90   \n",
       "\n",
       "  ControlledDiet                  Stages  \n",
       "0             No  HYPERTENSION (Stage-1)  \n",
       "1             No  HYPERTENSION (Stage-1)  \n",
       "2             No  HYPERTENSION (Stage-1)  \n",
       "3             No  HYPERTENSION (Stage-1)  \n",
       "4             No  HYPERTENSION (Stage-1)  "
      ]
     },
     "execution_count": 6,
     "metadata": {},
     "output_type": "execute_result"
    }
   ],
   "source": [
    "#Importing data\n",
    "df=pd.read_csv(\"C:/Users/sooda/Downloads/patient_data.csv\")\n",
    "df.head()"
   ]
  },
  {
   "cell_type": "code",
   "execution_count": 9,
   "id": "6c4fc99e-b3dc-43eb-b5ce-e606120ac406",
   "metadata": {},
   "outputs": [
    {
     "name": "stdout",
     "output_type": "stream",
     "text": [
      "<class 'pandas.core.frame.DataFrame'>\n",
      "RangeIndex: 1825 entries, 0 to 1824\n",
      "Data columns (total 14 columns):\n",
      " #   Column           Non-Null Count  Dtype \n",
      "---  ------           --------------  ----- \n",
      " 0   C                1825 non-null   object\n",
      " 1   Age              1825 non-null   object\n",
      " 2   History          1825 non-null   object\n",
      " 3   Patient          1825 non-null   object\n",
      " 4   TakeMedication   1825 non-null   object\n",
      " 5   Severity         1825 non-null   object\n",
      " 6   BreathShortness  1825 non-null   object\n",
      " 7   VisualChanges    1825 non-null   object\n",
      " 8   NoseBleeding     1825 non-null   object\n",
      " 9   Whendiagnoused   1825 non-null   object\n",
      " 10  Systolic         1825 non-null   object\n",
      " 11  Diastolic        1825 non-null   object\n",
      " 12  ControlledDiet   1825 non-null   object\n",
      " 13  Stages           1825 non-null   object\n",
      "dtypes: object(14)\n",
      "memory usage: 199.7+ KB\n"
     ]
    }
   ],
   "source": [
    "#Data Preparation\n",
    "#Handling missing values\n",
    "df.info()"
   ]
  },
  {
   "cell_type": "code",
   "execution_count": 11,
   "id": "9a069314-4fc6-4d89-883e-66558a0f4cf9",
   "metadata": {},
   "outputs": [
    {
     "data": {
      "text/plain": [
       "(1825, 14)"
      ]
     },
     "execution_count": 11,
     "metadata": {},
     "output_type": "execute_result"
    }
   ],
   "source": [
    "#checking size of our data\n",
    "df.shape"
   ]
  },
  {
   "cell_type": "code",
   "execution_count": 13,
   "id": "bc749bcb-7342-46cf-9d17-fc7403e17b22",
   "metadata": {},
   "outputs": [
    {
     "data": {
      "text/plain": [
       "C                  0\n",
       "Age                0\n",
       "History            0\n",
       "Patient            0\n",
       "TakeMedication     0\n",
       "Severity           0\n",
       "BreathShortness    0\n",
       "VisualChanges      0\n",
       "NoseBleeding       0\n",
       "Whendiagnoused     0\n",
       "Systolic           0\n",
       "Diastolic          0\n",
       "ControlledDiet     0\n",
       "Stages             0\n",
       "dtype: int64"
      ]
     },
     "execution_count": 13,
     "metadata": {},
     "output_type": "execute_result"
    }
   ],
   "source": [
    "#checking for null values\n",
    "df.isnull().sum()"
   ]
  },
  {
   "cell_type": "code",
   "execution_count": 15,
   "id": "9239a81e-269a-4ade-ae76-5d28ef486de4",
   "metadata": {},
   "outputs": [
    {
     "data": {
      "text/plain": [
       "array(['HYPERTENSION (Stage-1)', 'HYPERTENSION (Stage-2)',\n",
       "       'HYPERTENSIVE CRISIS', 'HYPERTENSION (Stage-2).',\n",
       "       'HYPERTENSIVE CRISI', 'NORMAL'], dtype=object)"
      ]
     },
     "execution_count": 15,
     "metadata": {},
     "output_type": "execute_result"
    }
   ],
   "source": [
    "df['Stages'].unique()"
   ]
  },
  {
   "cell_type": "code",
   "execution_count": 17,
   "id": "20422235-d3ff-4d06-94e8-b20513afc6fb",
   "metadata": {},
   "outputs": [
    {
     "name": "stderr",
     "output_type": "stream",
     "text": [
      "C:\\Users\\sooda\\AppData\\Local\\Temp\\ipykernel_8236\\2768809839.py:1: FutureWarning: A value is trying to be set on a copy of a DataFrame or Series through chained assignment using an inplace method.\n",
      "The behavior will change in pandas 3.0. This inplace method will never work because the intermediate object on which we are setting values always behaves as a copy.\n",
      "\n",
      "For example, when doing 'df[col].method(value, inplace=True)', try using 'df.method({col: value}, inplace=True)' or df[col] = df[col].method(value) instead, to perform the operation inplace on the original object.\n",
      "\n",
      "\n",
      "  df[\"Stages\"].replace({'HYPERTENSIVE CRISI': 'HYPERTENSIVE CRISIS', 'HYPERTENSION (Stage-2).' : 'HYPERTENSION (Stage-2)'}, inplace=True)\n"
     ]
    }
   ],
   "source": [
    "df[\"Stages\"].replace({'HYPERTENSIVE CRISI': 'HYPERTENSIVE CRISIS', 'HYPERTENSION (Stage-2).' : 'HYPERTENSION (Stage-2)'}, inplace=True)"
   ]
  },
  {
   "cell_type": "code",
   "execution_count": 19,
   "id": "44924d96-c4d4-44f0-b66c-7c758731c10d",
   "metadata": {},
   "outputs": [
    {
     "data": {
      "text/plain": [
       "array(['HYPERTENSION (Stage-1)', 'HYPERTENSION (Stage-2)',\n",
       "       'HYPERTENSIVE CRISIS', 'NORMAL'], dtype=object)"
      ]
     },
     "execution_count": 19,
     "metadata": {},
     "output_type": "execute_result"
    }
   ],
   "source": [
    "df['Stages'].unique()"
   ]
  },
  {
   "cell_type": "code",
   "execution_count": 23,
   "id": "53abe8e9-f93c-4cca-8f4d-3926f8b8be01",
   "metadata": {},
   "outputs": [],
   "source": [
    "#Handling categorical values\n",
    "#converting categorical into numerical value\n",
    "from sklearn.preprocessing import LabelEncoder\n",
    "\n",
    "columns=[\"Gender\",\"Age\",\"Severity\",\"History\",\"Patient\",\"TakeMedication\",\"BreathShortness\",\"VisualChanges\",\"NoseBleeding\",\"ControlledDiet\",\"Whendiagnoused\",\"Systolic\",\"Diastolic\",\"Stages\"]\n",
    "label_encoder=LabelEncoder()\n",
    "for col in columns:\n",
    "    df[col]=label_encoder.fit_transform(df[col])"
   ]
  },
  {
   "cell_type": "code",
   "execution_count": 21,
   "id": "036aa02d-8137-4009-8110-9a542adf747b",
   "metadata": {},
   "outputs": [
    {
     "name": "stdout",
     "output_type": "stream",
     "text": [
      "      Gender    Age History Patient TakeMedication Severity BreathShortness  \\\n",
      "0       Male  18-34     Yes      No             No     Mild              No   \n",
      "1     Female  18-34     Yes      No             No     Mild              No   \n",
      "2       Male  35-50     Yes      No             No     Mild              No   \n",
      "3     Female  35-50     Yes      No             No     Mild              No   \n",
      "4       Male  51-64     Yes      No             No     Mild              No   \n",
      "...      ...    ...     ...     ...            ...      ...             ...   \n",
      "1820  Female  35-50     Yes      No             No    Sever              No   \n",
      "1821    Male  51-64     Yes      No             No    Sever              No   \n",
      "1822  Female  51-64     Yes      No             No    Sever              No   \n",
      "1823    Male    65+     Yes      No             No    Sever              No   \n",
      "1824  Female    65+     Yes      No             No    Sever              No   \n",
      "\n",
      "     VisualChanges NoseBleeding Whendiagnoused   Systolic Diastolic  \\\n",
      "0               No          No         <1 Year  111 - 120   81 - 90   \n",
      "1               No          No         <1 Year  111 - 120   81 - 90   \n",
      "2               No          No         <1 Year  111 - 120   81 - 90   \n",
      "3               No          No         <1 Year  111 - 120   81 - 90   \n",
      "4               No          No         <1 Year  111 - 120   81 - 90   \n",
      "...            ...          ...            ...        ...       ...   \n",
      "1820            No          No        >5 Years  111 - 120   70 - 80   \n",
      "1821            No          No        >5 Years  111 - 120   70 - 80   \n",
      "1822            No          No        >5 Years  111 - 120   70 - 80   \n",
      "1823            No          No        >5 Years  111 - 120   70 - 80   \n",
      "1824            No          No        >5 Years  111 - 120   70 - 80   \n",
      "\n",
      "     ControlledDiet                  Stages  \n",
      "0                No  HYPERTENSION (Stage-1)  \n",
      "1                No  HYPERTENSION (Stage-1)  \n",
      "2                No  HYPERTENSION (Stage-1)  \n",
      "3                No  HYPERTENSION (Stage-1)  \n",
      "4                No  HYPERTENSION (Stage-1)  \n",
      "...             ...                     ...  \n",
      "1820             No                  NORMAL  \n",
      "1821             No                  NORMAL  \n",
      "1822             No                  NORMAL  \n",
      "1823             No                  NORMAL  \n",
      "1824             No                  NORMAL  \n",
      "\n",
      "[1825 rows x 14 columns]\n"
     ]
    }
   ],
   "source": [
    "df=df. rename(columns={'C': 'Gender'}) \n",
    "print(df)"
   ]
  },
  {
   "cell_type": "code",
   "execution_count": 25,
   "id": "0981c2c1-3f38-49a3-a1d3-32073ef5233e",
   "metadata": {},
   "outputs": [
    {
     "data": {
      "text/html": [
       "<div>\n",
       "<style scoped>\n",
       "    .dataframe tbody tr th:only-of-type {\n",
       "        vertical-align: middle;\n",
       "    }\n",
       "\n",
       "    .dataframe tbody tr th {\n",
       "        vertical-align: top;\n",
       "    }\n",
       "\n",
       "    .dataframe thead th {\n",
       "        text-align: right;\n",
       "    }\n",
       "</style>\n",
       "<table border=\"1\" class=\"dataframe\">\n",
       "  <thead>\n",
       "    <tr style=\"text-align: right;\">\n",
       "      <th></th>\n",
       "      <th>Gender</th>\n",
       "      <th>Age</th>\n",
       "      <th>History</th>\n",
       "      <th>Patient</th>\n",
       "      <th>TakeMedication</th>\n",
       "      <th>Severity</th>\n",
       "      <th>BreathShortness</th>\n",
       "      <th>VisualChanges</th>\n",
       "      <th>NoseBleeding</th>\n",
       "      <th>Whendiagnoused</th>\n",
       "      <th>Systolic</th>\n",
       "      <th>Diastolic</th>\n",
       "      <th>ControlledDiet</th>\n",
       "      <th>Stages</th>\n",
       "    </tr>\n",
       "  </thead>\n",
       "  <tbody>\n",
       "    <tr>\n",
       "      <th>count</th>\n",
       "      <td>1825.000000</td>\n",
       "      <td>1825.000000</td>\n",
       "      <td>1825.000000</td>\n",
       "      <td>1825.000000</td>\n",
       "      <td>1825.000000</td>\n",
       "      <td>1825.000000</td>\n",
       "      <td>1825.000000</td>\n",
       "      <td>1825.000000</td>\n",
       "      <td>1825.000000</td>\n",
       "      <td>1825.000000</td>\n",
       "      <td>1825.000000</td>\n",
       "      <td>1825.000000</td>\n",
       "      <td>1825.000000</td>\n",
       "      <td>1825.000000</td>\n",
       "    </tr>\n",
       "    <tr>\n",
       "      <th>mean</th>\n",
       "      <td>0.499726</td>\n",
       "      <td>1.441096</td>\n",
       "      <td>0.907945</td>\n",
       "      <td>0.460822</td>\n",
       "      <td>0.921096</td>\n",
       "      <td>1.013151</td>\n",
       "      <td>0.465205</td>\n",
       "      <td>0.484932</td>\n",
       "      <td>1.026849</td>\n",
       "      <td>1.026301</td>\n",
       "      <td>1.965479</td>\n",
       "      <td>2.717808</td>\n",
       "      <td>0.460822</td>\n",
       "      <td>1.145205</td>\n",
       "    </tr>\n",
       "    <tr>\n",
       "      <th>std</th>\n",
       "      <td>0.500137</td>\n",
       "      <td>1.098723</td>\n",
       "      <td>0.289183</td>\n",
       "      <td>0.498599</td>\n",
       "      <td>0.854759</td>\n",
       "      <td>0.786287</td>\n",
       "      <td>0.498925</td>\n",
       "      <td>0.499910</td>\n",
       "      <td>0.678493</td>\n",
       "      <td>0.810680</td>\n",
       "      <td>1.158215</td>\n",
       "      <td>1.256490</td>\n",
       "      <td>0.498599</td>\n",
       "      <td>1.096876</td>\n",
       "    </tr>\n",
       "    <tr>\n",
       "      <th>min</th>\n",
       "      <td>0.000000</td>\n",
       "      <td>0.000000</td>\n",
       "      <td>0.000000</td>\n",
       "      <td>0.000000</td>\n",
       "      <td>0.000000</td>\n",
       "      <td>0.000000</td>\n",
       "      <td>0.000000</td>\n",
       "      <td>0.000000</td>\n",
       "      <td>0.000000</td>\n",
       "      <td>0.000000</td>\n",
       "      <td>0.000000</td>\n",
       "      <td>0.000000</td>\n",
       "      <td>0.000000</td>\n",
       "      <td>0.000000</td>\n",
       "    </tr>\n",
       "    <tr>\n",
       "      <th>25%</th>\n",
       "      <td>0.000000</td>\n",
       "      <td>0.000000</td>\n",
       "      <td>1.000000</td>\n",
       "      <td>0.000000</td>\n",
       "      <td>0.000000</td>\n",
       "      <td>0.000000</td>\n",
       "      <td>0.000000</td>\n",
       "      <td>0.000000</td>\n",
       "      <td>1.000000</td>\n",
       "      <td>0.000000</td>\n",
       "      <td>1.000000</td>\n",
       "      <td>2.000000</td>\n",
       "      <td>0.000000</td>\n",
       "      <td>0.000000</td>\n",
       "    </tr>\n",
       "    <tr>\n",
       "      <th>50%</th>\n",
       "      <td>0.000000</td>\n",
       "      <td>1.000000</td>\n",
       "      <td>1.000000</td>\n",
       "      <td>0.000000</td>\n",
       "      <td>1.000000</td>\n",
       "      <td>1.000000</td>\n",
       "      <td>0.000000</td>\n",
       "      <td>0.000000</td>\n",
       "      <td>1.000000</td>\n",
       "      <td>1.000000</td>\n",
       "      <td>1.000000</td>\n",
       "      <td>3.000000</td>\n",
       "      <td>0.000000</td>\n",
       "      <td>1.000000</td>\n",
       "    </tr>\n",
       "    <tr>\n",
       "      <th>75%</th>\n",
       "      <td>1.000000</td>\n",
       "      <td>2.000000</td>\n",
       "      <td>1.000000</td>\n",
       "      <td>1.000000</td>\n",
       "      <td>2.000000</td>\n",
       "      <td>2.000000</td>\n",
       "      <td>1.000000</td>\n",
       "      <td>1.000000</td>\n",
       "      <td>1.000000</td>\n",
       "      <td>2.000000</td>\n",
       "      <td>3.000000</td>\n",
       "      <td>4.000000</td>\n",
       "      <td>1.000000</td>\n",
       "      <td>2.000000</td>\n",
       "    </tr>\n",
       "    <tr>\n",
       "      <th>max</th>\n",
       "      <td>1.000000</td>\n",
       "      <td>3.000000</td>\n",
       "      <td>1.000000</td>\n",
       "      <td>1.000000</td>\n",
       "      <td>2.000000</td>\n",
       "      <td>2.000000</td>\n",
       "      <td>1.000000</td>\n",
       "      <td>1.000000</td>\n",
       "      <td>2.000000</td>\n",
       "      <td>2.000000</td>\n",
       "      <td>4.000000</td>\n",
       "      <td>4.000000</td>\n",
       "      <td>1.000000</td>\n",
       "      <td>3.000000</td>\n",
       "    </tr>\n",
       "  </tbody>\n",
       "</table>\n",
       "</div>"
      ],
      "text/plain": [
       "            Gender          Age      History      Patient  TakeMedication  \\\n",
       "count  1825.000000  1825.000000  1825.000000  1825.000000     1825.000000   \n",
       "mean      0.499726     1.441096     0.907945     0.460822        0.921096   \n",
       "std       0.500137     1.098723     0.289183     0.498599        0.854759   \n",
       "min       0.000000     0.000000     0.000000     0.000000        0.000000   \n",
       "25%       0.000000     0.000000     1.000000     0.000000        0.000000   \n",
       "50%       0.000000     1.000000     1.000000     0.000000        1.000000   \n",
       "75%       1.000000     2.000000     1.000000     1.000000        2.000000   \n",
       "max       1.000000     3.000000     1.000000     1.000000        2.000000   \n",
       "\n",
       "          Severity  BreathShortness  VisualChanges  NoseBleeding  \\\n",
       "count  1825.000000      1825.000000    1825.000000   1825.000000   \n",
       "mean      1.013151         0.465205       0.484932      1.026849   \n",
       "std       0.786287         0.498925       0.499910      0.678493   \n",
       "min       0.000000         0.000000       0.000000      0.000000   \n",
       "25%       0.000000         0.000000       0.000000      1.000000   \n",
       "50%       1.000000         0.000000       0.000000      1.000000   \n",
       "75%       2.000000         1.000000       1.000000      1.000000   \n",
       "max       2.000000         1.000000       1.000000      2.000000   \n",
       "\n",
       "       Whendiagnoused     Systolic    Diastolic  ControlledDiet       Stages  \n",
       "count     1825.000000  1825.000000  1825.000000     1825.000000  1825.000000  \n",
       "mean         1.026301     1.965479     2.717808        0.460822     1.145205  \n",
       "std          0.810680     1.158215     1.256490        0.498599     1.096876  \n",
       "min          0.000000     0.000000     0.000000        0.000000     0.000000  \n",
       "25%          0.000000     1.000000     2.000000        0.000000     0.000000  \n",
       "50%          1.000000     1.000000     3.000000        0.000000     1.000000  \n",
       "75%          2.000000     3.000000     4.000000        1.000000     2.000000  \n",
       "max          2.000000     4.000000     4.000000        1.000000     3.000000  "
      ]
     },
     "execution_count": 25,
     "metadata": {},
     "output_type": "execute_result"
    }
   ],
   "source": [
    "#Exploratory Data Analysis\n",
    "df.describe()"
   ]
  },
  {
   "cell_type": "code",
   "execution_count": 27,
   "id": "0e06622c-fb4d-482a-a591-5eafe077fc7e",
   "metadata": {},
   "outputs": [
    {
     "data": {
      "image/png": "[encoded data removed]",
      "text/plain": [
       "<Figure size 640x480 with 1 Axes>"
      ]
     },
     "metadata": {},
     "output_type": "display_data"
    }
   ],
   "source": [
    "#Univariate Analysis\n",
    "gender_counts=df[\"Gender\"].value_counts()\n",
    "\n",
    "#Plotting the pie chart\n",
    "plt.pie(gender_counts, labels=gender_counts.index, startangle=140, autopct=\"%1.0f%%\")\n",
    "plt.title(\"Gender Distribution\")\n",
    "plt.axis(\"equal\")\n",
    "plt.show()"
   ]
  },
  {
   "cell_type": "code",
   "execution_count": 29,
   "id": "77899c54-28f3-41e6-93ae-89e1316b0a56",
   "metadata": {},
   "outputs": [
    {
     "data": {
      "image/png": "[encoded data removed]",
      "text/plain": [
       "<Figure size 640x480 with 1 Axes>"
      ]
     },
     "metadata": {},
     "output_type": "display_data"
    },
    {
     "data": {
      "image/png": "[encoded data removed]",
      "text/plain": [
       "<Figure size 600x600 with 1 Axes>"
      ]
     },
     "metadata": {},
     "output_type": "display_data"
    }
   ],
   "source": [
    "frequency=df[\"Stages\"].value_counts()\n",
    "frequency.plot(kind=\"bar\")\n",
    "plt.figure(figsize=(6,6))\n",
    "plt.xlabel(\"stages\")\n",
    "plt.ylabel(\"Frequency\")\n",
    "plt.title(\"Count of Stages\")\n",
    "plt.show()"
   ]
  },
  {
   "cell_type": "code",
   "execution_count": 31,
   "id": "32e890af-6af9-4d6d-8f94-fccb8c54b1c1",
   "metadata": {},
   "outputs": [
    {
     "data": {
      "image/png": "[encoded data removed]",
      "text/plain": [
       "<Figure size 640x480 with 1 Axes>"
      ]
     },
     "metadata": {},
     "output_type": "display_data"
    }
   ],
   "source": [
    "#bivariate analysis\n",
    "sns.countplot(x=\"TakeMedication\",hue=\"Severity\",data=df)\n",
    "plt.title(\"Countplot of TakeMedication by Severity\")\n",
    "plt.show()"
   ]
  },
  {
   "cell_type": "code",
   "execution_count": 33,
   "id": "b8724159-c825-4a01-b27f-6e9862bcc49f",
   "metadata": {},
   "outputs": [
    {
     "data": {
      "image/png": "[encoded data removed]",
      "text/plain": [
       "<Figure size 750x750 with 12 Axes>"
      ]
     },
     "metadata": {},
     "output_type": "display_data"
    }
   ],
   "source": [
    "#Multivariate Analysis\n",
    "sns.pairplot(data=df, vars=[\"Age\",\"Systolic\",\"Diastolic\"])\n",
    "plt.show()"
   ]
  },
  {
   "cell_type": "code",
   "execution_count": 35,
   "id": "135ca320-398b-4336-9af6-59cfee98ad08",
   "metadata": {},
   "outputs": [
    {
     "data": {
      "text/html": [
       "<div>\n",
       "<style scoped>\n",
       "    .dataframe tbody tr th:only-of-type {\n",
       "        vertical-align: middle;\n",
       "    }\n",
       "\n",
       "    .dataframe tbody tr th {\n",
       "        vertical-align: top;\n",
       "    }\n",
       "\n",
       "    .dataframe thead th {\n",
       "        text-align: right;\n",
       "    }\n",
       "</style>\n",
       "<table border=\"1\" class=\"dataframe\">\n",
       "  <thead>\n",
       "    <tr style=\"text-align: right;\">\n",
       "      <th></th>\n",
       "      <th>Gender</th>\n",
       "      <th>Age</th>\n",
       "      <th>History</th>\n",
       "      <th>Patient</th>\n",
       "      <th>TakeMedication</th>\n",
       "      <th>Severity</th>\n",
       "      <th>BreathShortness</th>\n",
       "      <th>VisualChanges</th>\n",
       "      <th>NoseBleeding</th>\n",
       "      <th>Whendiagnoused</th>\n",
       "      <th>Systolic</th>\n",
       "      <th>Diastolic</th>\n",
       "      <th>ControlledDiet</th>\n",
       "    </tr>\n",
       "  </thead>\n",
       "  <tbody>\n",
       "    <tr>\n",
       "      <th>0</th>\n",
       "      <td>1</td>\n",
       "      <td>0</td>\n",
       "      <td>1</td>\n",
       "      <td>0</td>\n",
       "      <td>0</td>\n",
       "      <td>0</td>\n",
       "      <td>0</td>\n",
       "      <td>0</td>\n",
       "      <td>1</td>\n",
       "      <td>1</td>\n",
       "      <td>1</td>\n",
       "      <td>3</td>\n",
       "      <td>0</td>\n",
       "    </tr>\n",
       "    <tr>\n",
       "      <th>1</th>\n",
       "      <td>0</td>\n",
       "      <td>0</td>\n",
       "      <td>1</td>\n",
       "      <td>0</td>\n",
       "      <td>0</td>\n",
       "      <td>0</td>\n",
       "      <td>0</td>\n",
       "      <td>0</td>\n",
       "      <td>1</td>\n",
       "      <td>1</td>\n",
       "      <td>1</td>\n",
       "      <td>3</td>\n",
       "      <td>0</td>\n",
       "    </tr>\n",
       "    <tr>\n",
       "      <th>2</th>\n",
       "      <td>1</td>\n",
       "      <td>1</td>\n",
       "      <td>1</td>\n",
       "      <td>0</td>\n",
       "      <td>0</td>\n",
       "      <td>0</td>\n",
       "      <td>0</td>\n",
       "      <td>0</td>\n",
       "      <td>1</td>\n",
       "      <td>1</td>\n",
       "      <td>1</td>\n",
       "      <td>3</td>\n",
       "      <td>0</td>\n",
       "    </tr>\n",
       "    <tr>\n",
       "      <th>3</th>\n",
       "      <td>0</td>\n",
       "      <td>1</td>\n",
       "      <td>1</td>\n",
       "      <td>0</td>\n",
       "      <td>0</td>\n",
       "      <td>0</td>\n",
       "      <td>0</td>\n",
       "      <td>0</td>\n",
       "      <td>1</td>\n",
       "      <td>1</td>\n",
       "      <td>1</td>\n",
       "      <td>3</td>\n",
       "      <td>0</td>\n",
       "    </tr>\n",
       "    <tr>\n",
       "      <th>4</th>\n",
       "      <td>1</td>\n",
       "      <td>2</td>\n",
       "      <td>1</td>\n",
       "      <td>0</td>\n",
       "      <td>0</td>\n",
       "      <td>0</td>\n",
       "      <td>0</td>\n",
       "      <td>0</td>\n",
       "      <td>1</td>\n",
       "      <td>1</td>\n",
       "      <td>1</td>\n",
       "      <td>3</td>\n",
       "      <td>0</td>\n",
       "    </tr>\n",
       "    <tr>\n",
       "      <th>...</th>\n",
       "      <td>...</td>\n",
       "      <td>...</td>\n",
       "      <td>...</td>\n",
       "      <td>...</td>\n",
       "      <td>...</td>\n",
       "      <td>...</td>\n",
       "      <td>...</td>\n",
       "      <td>...</td>\n",
       "      <td>...</td>\n",
       "      <td>...</td>\n",
       "      <td>...</td>\n",
       "      <td>...</td>\n",
       "      <td>...</td>\n",
       "    </tr>\n",
       "    <tr>\n",
       "      <th>1820</th>\n",
       "      <td>0</td>\n",
       "      <td>1</td>\n",
       "      <td>1</td>\n",
       "      <td>0</td>\n",
       "      <td>0</td>\n",
       "      <td>2</td>\n",
       "      <td>0</td>\n",
       "      <td>0</td>\n",
       "      <td>1</td>\n",
       "      <td>2</td>\n",
       "      <td>1</td>\n",
       "      <td>2</td>\n",
       "      <td>0</td>\n",
       "    </tr>\n",
       "    <tr>\n",
       "      <th>1821</th>\n",
       "      <td>1</td>\n",
       "      <td>2</td>\n",
       "      <td>1</td>\n",
       "      <td>0</td>\n",
       "      <td>0</td>\n",
       "      <td>2</td>\n",
       "      <td>0</td>\n",
       "      <td>0</td>\n",
       "      <td>1</td>\n",
       "      <td>2</td>\n",
       "      <td>1</td>\n",
       "      <td>2</td>\n",
       "      <td>0</td>\n",
       "    </tr>\n",
       "    <tr>\n",
       "      <th>1822</th>\n",
       "      <td>0</td>\n",
       "      <td>2</td>\n",
       "      <td>1</td>\n",
       "      <td>0</td>\n",
       "      <td>0</td>\n",
       "      <td>2</td>\n",
       "      <td>0</td>\n",
       "      <td>0</td>\n",
       "      <td>1</td>\n",
       "      <td>2</td>\n",
       "      <td>1</td>\n",
       "      <td>2</td>\n",
       "      <td>0</td>\n",
       "    </tr>\n",
       "    <tr>\n",
       "      <th>1823</th>\n",
       "      <td>1</td>\n",
       "      <td>3</td>\n",
       "      <td>1</td>\n",
       "      <td>0</td>\n",
       "      <td>0</td>\n",
       "      <td>2</td>\n",
       "      <td>0</td>\n",
       "      <td>0</td>\n",
       "      <td>1</td>\n",
       "      <td>2</td>\n",
       "      <td>1</td>\n",
       "      <td>2</td>\n",
       "      <td>0</td>\n",
       "    </tr>\n",
       "    <tr>\n",
       "      <th>1824</th>\n",
       "      <td>0</td>\n",
       "      <td>3</td>\n",
       "      <td>1</td>\n",
       "      <td>0</td>\n",
       "      <td>0</td>\n",
       "      <td>2</td>\n",
       "      <td>0</td>\n",
       "      <td>0</td>\n",
       "      <td>1</td>\n",
       "      <td>2</td>\n",
       "      <td>1</td>\n",
       "      <td>2</td>\n",
       "      <td>0</td>\n",
       "    </tr>\n",
       "  </tbody>\n",
       "</table>\n",
       "<p>1825 rows × 13 columns</p>\n",
       "</div>"
      ],
      "text/plain": [
       "      Gender  Age  History  Patient  TakeMedication  Severity  \\\n",
       "0          1    0        1        0               0         0   \n",
       "1          0    0        1        0               0         0   \n",
       "2          1    1        1        0               0         0   \n",
       "3          0    1        1        0               0         0   \n",
       "4          1    2        1        0               0         0   \n",
       "...      ...  ...      ...      ...             ...       ...   \n",
       "1820       0    1        1        0               0         2   \n",
       "1821       1    2        1        0               0         2   \n",
       "1822       0    2        1        0               0         2   \n",
       "1823       1    3        1        0               0         2   \n",
       "1824       0    3        1        0               0         2   \n",
       "\n",
       "      BreathShortness  VisualChanges  NoseBleeding  Whendiagnoused  Systolic  \\\n",
       "0                   0              0             1               1         1   \n",
       "1                   0              0             1               1         1   \n",
       "2                   0              0             1               1         1   \n",
       "3                   0              0             1               1         1   \n",
       "4                   0              0             1               1         1   \n",
       "...               ...            ...           ...             ...       ...   \n",
       "1820                0              0             1               2         1   \n",
       "1821                0              0             1               2         1   \n",
       "1822                0              0             1               2         1   \n",
       "1823                0              0             1               2         1   \n",
       "1824                0              0             1               2         1   \n",
       "\n",
       "      Diastolic  ControlledDiet  \n",
       "0             3               0  \n",
       "1             3               0  \n",
       "2             3               0  \n",
       "3             3               0  \n",
       "4             3               0  \n",
       "...         ...             ...  \n",
       "1820          2               0  \n",
       "1821          2               0  \n",
       "1822          2               0  \n",
       "1823          2               0  \n",
       "1824          2               0  \n",
       "\n",
       "[1825 rows x 13 columns]"
      ]
     },
     "execution_count": 35,
     "metadata": {},
     "output_type": "execute_result"
    }
   ],
   "source": [
    "#Splitting data into X and Y\n",
    "x=df.drop(\"Stages\",axis=1)\n",
    "x"
   ]
  },
  {
   "cell_type": "code",
   "execution_count": 37,
   "id": "b5f43259-209b-4b01-bd11-9c22c28cc2d1",
   "metadata": {},
   "outputs": [
    {
     "data": {
      "text/plain": [
       "0       0\n",
       "1       0\n",
       "2       0\n",
       "3       0\n",
       "4       0\n",
       "       ..\n",
       "1820    3\n",
       "1821    3\n",
       "1822    3\n",
       "1823    3\n",
       "1824    3\n",
       "Name: Stages, Length: 1825, dtype: int32"
      ]
     },
     "execution_count": 37,
     "metadata": {},
     "output_type": "execute_result"
    }
   ],
   "source": [
    "y=df[\"Stages\"]\n",
    "y"
   ]
  },
  {
   "cell_type": "code",
   "execution_count": 39,
   "id": "3527cffb-021f-4168-a510-986c2adbe2aa",
   "metadata": {},
   "outputs": [],
   "source": [
    "#splitting into training and testing datasets\n",
    "from sklearn.model_selection import train_test_split\n",
    "x_train,x_test,y_train,y_test=train_test_split(x,y,test_size=0.2, random_state=30)"
   ]
  },
  {
   "cell_type": "code",
   "execution_count": 41,
   "id": "953a4567-0239-43d4-854a-c3c3f5c2cf4c",
   "metadata": {},
   "outputs": [
    {
     "name": "stdout",
     "output_type": "stream",
     "text": [
      "Accuracy Score:  0.9808219178082191\n",
      "              precision    recall  f1-score   support\n",
      "\n",
      "           0       1.00      0.95      0.97       132\n",
      "           1       1.00      1.00      1.00       133\n",
      "           2       1.00      1.00      1.00        34\n",
      "           3       0.90      1.00      0.95        66\n",
      "\n",
      "    accuracy                           0.98       365\n",
      "   macro avg       0.98      0.99      0.98       365\n",
      "weighted avg       0.98      0.98      0.98       365\n",
      "\n"
     ]
    },
    {
     "name": "stderr",
     "output_type": "stream",
     "text": [
      "C:\\Users\\sooda\\anaconda3\\Lib\\site-packages\\sklearn\\linear_model\\_logistic.py:469: ConvergenceWarning: lbfgs failed to converge (status=1):\n",
      "STOP: TOTAL NO. of ITERATIONS REACHED LIMIT.\n",
      "\n",
      "Increase the number of iterations (max_iter) or scale the data as shown in:\n",
      "    https://scikit-learn.org/stable/modules/preprocessing.html\n",
      "Please also refer to the documentation for alternative solver options:\n",
      "    https://scikit-learn.org/stable/modules/linear_model.html#logistic-regression\n",
      "  n_iter_i = _check_optimize_result(\n"
     ]
    }
   ],
   "source": [
    "#Logistic Regression\n",
    "from sklearn.linear_model import LogisticRegression\n",
    "from sklearn.metrics import accuracy_score, classification_report\n",
    "\n",
    "\n",
    "logistic_regression = LogisticRegression()\n",
    "logistic_regression.fit(x_train, y_train)\n",
    "y_pred = logistic_regression.predict(x_test)\n",
    "\n",
    "acc_lr = accuracy_score(y_test, y_pred)\n",
    "c_lr = classification_report(y_test, y_pred)\n",
    "\n",
    "print('Accuracy Score: ', acc_lr)\n",
    "print(c_lr)\n"
   ]
  },
  {
   "cell_type": "code",
   "execution_count": 43,
   "id": "5c7bc40a-7f65-4962-8709-122c0df8f18a",
   "metadata": {},
   "outputs": [
    {
     "name": "stdout",
     "output_type": "stream",
     "text": [
      "Accuracy Score:  1.0\n",
      "              precision    recall  f1-score   support\n",
      "\n",
      "           0       1.00      1.00      1.00       132\n",
      "           1       1.00      1.00      1.00       133\n",
      "           2       1.00      1.00      1.00        34\n",
      "           3       1.00      1.00      1.00        66\n",
      "\n",
      "    accuracy                           1.00       365\n",
      "   macro avg       1.00      1.00      1.00       365\n",
      "weighted avg       1.00      1.00      1.00       365\n",
      "\n"
     ]
    }
   ],
   "source": [
    "#Random Forest Classifier\n",
    "from sklearn.ensemble import RandomForestClassifier\n",
    "from sklearn.metrics import accuracy_score\n",
    "from sklearn.metrics import classification_report\n",
    "\n",
    "random_forest = RandomForestClassifier()\n",
    "random_forest.fit(x_train, y_train)\n",
    "y_pred = random_forest.predict(x_test)\n",
    "\n",
    "acc_rf = accuracy_score(y_test, y_pred)\n",
    "c_rf = classification_report(y_test, y_pred)\n",
    "\n",
    "print('Accuracy Score: ', acc_rf)\n",
    "print(c_rf)\n"
   ]
  },
  {
   "cell_type": "code",
   "execution_count": 45,
   "id": "9b2b91bf-4893-437a-903e-ed5f127a0457",
   "metadata": {},
   "outputs": [
    {
     "name": "stdout",
     "output_type": "stream",
     "text": [
      "Accuracy Score:  1.0\n",
      "              precision    recall  f1-score   support\n",
      "\n",
      "           0       1.00      1.00      1.00       132\n",
      "           1       1.00      1.00      1.00       133\n",
      "           2       1.00      1.00      1.00        34\n",
      "           3       1.00      1.00      1.00        66\n",
      "\n",
      "    accuracy                           1.00       365\n",
      "   macro avg       1.00      1.00      1.00       365\n",
      "weighted avg       1.00      1.00      1.00       365\n",
      "\n"
     ]
    }
   ],
   "source": [
    "#Decision Tree Classifier\n",
    "from sklearn.tree import DecisionTreeClassifier\n",
    "from sklearn.metrics import accuracy_score\n",
    "from sklearn.metrics import classification_report\n",
    "\n",
    "decision_tree_model = DecisionTreeClassifier()\n",
    "decision_tree_model.fit(x_train, y_train)\n",
    "y_pred = decision_tree_model.predict(x_test)\n",
    "\n",
    "acc_dt = accuracy_score(y_test, y_pred)\n",
    "c_dt = classification_report(y_test, y_pred)\n",
    "\n",
    "print('Accuracy Score: ', acc_dt)\n",
    "print(c_dt)\n"
   ]
  },
  {
   "cell_type": "code",
   "execution_count": 47,
   "id": "9b46b139-01e9-47cc-9e90-fe883ca456ec",
   "metadata": {},
   "outputs": [
    {
     "name": "stdout",
     "output_type": "stream",
     "text": [
      "Accuracy Score:  1.0\n",
      "              precision    recall  f1-score   support\n",
      "\n",
      "           0       1.00      1.00      1.00       132\n",
      "           1       1.00      1.00      1.00       133\n",
      "           2       1.00      1.00      1.00        34\n",
      "           3       1.00      1.00      1.00        66\n",
      "\n",
      "    accuracy                           1.00       365\n",
      "   macro avg       1.00      1.00      1.00       365\n",
      "weighted avg       1.00      1.00      1.00       365\n",
      "\n"
     ]
    }
   ],
   "source": [
    "#Gaussian Naive Bayes\n",
    "from sklearn.naive_bayes import GaussianNB\n",
    "from sklearn.metrics import accuracy_score\n",
    "from sklearn.metrics import classification_report\n",
    "\n",
    "NB = GaussianNB()\n",
    "NB.fit(x_train, y_train)\n",
    "y_pred = NB.predict(x_test)\n",
    "\n",
    "acc_nb = accuracy_score(y_test, y_pred)\n",
    "c_nb = classification_report(y_test, y_pred)\n",
    "\n",
    "print('Accuracy Score: ', acc_nb)\n",
    "print(c_nb)\n"
   ]
  },
  {
   "cell_type": "code",
   "execution_count": 49,
   "id": "4ef0390e-9d44-4dc3-a691-d088e8059114",
   "metadata": {},
   "outputs": [
    {
     "name": "stdout",
     "output_type": "stream",
     "text": [
      "Accuracy Score:  1.0\n",
      "              precision    recall  f1-score   support\n",
      "\n",
      "           0       1.00      1.00      1.00       132\n",
      "           1       1.00      1.00      1.00       133\n",
      "           2       1.00      1.00      1.00        34\n",
      "           3       1.00      1.00      1.00        66\n",
      "\n",
      "    accuracy                           1.00       365\n",
      "   macro avg       1.00      1.00      1.00       365\n",
      "weighted avg       1.00      1.00      1.00       365\n",
      "\n"
     ]
    }
   ],
   "source": [
    "#Multinomial Naive Bayes\n",
    "from sklearn.naive_bayes import MultinomialNB\n",
    "from sklearn.metrics import accuracy_score\n",
    "from sklearn.metrics import classification_report\n",
    "\n",
    "mNB = MultinomialNB()\n",
    "mNB.fit(x_train, y_train)\n",
    "y_pred = NB.predict(x_test)\n",
    "\n",
    "acc_mnb = accuracy_score(y_test, y_pred)\n",
    "c_mnb = classification_report(y_test, y_pred)\n",
    "\n",
    "print('Accuracy Score: ', acc_mnb)\n",
    "print(c_mnb)\n"
   ]
  },
  {
   "cell_type": "code",
   "execution_count": 51,
   "id": "ea388cd5-c423-45e3-89db-3274d5c2bf30",
   "metadata": {},
   "outputs": [
    {
     "name": "stdout",
     "output_type": "stream",
     "text": [
      "Random Forest Prediction 2\n"
     ]
    },
    {
     "name": "stderr",
     "output_type": "stream",
     "text": [
      "C:\\Users\\sooda\\anaconda3\\Lib\\site-packages\\sklearn\\base.py:493: UserWarning: X does not have valid feature names, but RandomForestClassifier was fitted with feature names\n",
      "  warnings.warn(\n"
     ]
    }
   ],
   "source": [
    "#Testing the model\n",
    "prediction = random_forest.predict([[0, 3, 0, 2, 0, 0, 1, 6, 0.0, 0.0, 0.0, 0,0]])\n",
    "print(\"Random Forest Prediction\",prediction[0])\n"
   ]
  },
  {
   "cell_type": "code",
   "execution_count": 53,
   "id": "457311fd-3bd2-4fa9-9e00-cb894ab12cc4",
   "metadata": {},
   "outputs": [
    {
     "name": "stdout",
     "output_type": "stream",
     "text": [
      "Logistic Regression Prediction: 2\n"
     ]
    },
    {
     "name": "stderr",
     "output_type": "stream",
     "text": [
      "C:\\Users\\sooda\\anaconda3\\Lib\\site-packages\\sklearn\\base.py:493: UserWarning: X does not have valid feature names, but LogisticRegression was fitted with feature names\n",
      "  warnings.warn(\n"
     ]
    }
   ],
   "source": [
    "prediction = logistic_regression.predict([[0, 3, 0, 2, 0, 0, 1, 6, 0.0, 0.0, 0.0, 0,0]])\n",
    "print(\"Logistic Regression Prediction:\", prediction[0])\n"
   ]
  },
  {
   "cell_type": "code",
   "execution_count": 55,
   "id": "19a1be2d-52fa-4858-acff-1b4747b83a34",
   "metadata": {},
   "outputs": [
    {
     "name": "stdout",
     "output_type": "stream",
     "text": [
      "Decision Tree Prediction: 0\n"
     ]
    },
    {
     "name": "stderr",
     "output_type": "stream",
     "text": [
      "C:\\Users\\sooda\\anaconda3\\Lib\\site-packages\\sklearn\\base.py:493: UserWarning: X does not have valid feature names, but DecisionTreeClassifier was fitted with feature names\n",
      "  warnings.warn(\n"
     ]
    }
   ],
   "source": [
    "prediction = decision_tree_model.predict([[0, 3, 0, 2, 0, 0, 1, 6, 0.0, 0.0, 0.0, 0,0]])\n",
    "print(\"Decision Tree Prediction:\", prediction[0])\n"
   ]
  },
  {
   "cell_type": "code",
   "execution_count": 57,
   "id": "6a1ea447-01f1-4dd1-afd6-ad3c8071a948",
   "metadata": {},
   "outputs": [
    {
     "name": "stdout",
     "output_type": "stream",
     "text": [
      "GaussianNB Prediction: 0\n"
     ]
    },
    {
     "name": "stderr",
     "output_type": "stream",
     "text": [
      "C:\\Users\\sooda\\anaconda3\\Lib\\site-packages\\sklearn\\base.py:493: UserWarning: X does not have valid feature names, but GaussianNB was fitted with feature names\n",
      "  warnings.warn(\n"
     ]
    }
   ],
   "source": [
    "prediction = NB.predict([[0, 3, 0, 2, 0, 0, 1, 6, 0.0, 0.0, 0.0, 0,0]])\n",
    "print(\"GaussianNB Prediction:\", prediction[0])\n"
   ]
  },
  {
   "cell_type": "code",
   "execution_count": 59,
   "id": "1aa89d78-7980-4de1-89c9-b25aa02c3f33",
   "metadata": {},
   "outputs": [
    {
     "name": "stdout",
     "output_type": "stream",
     "text": [
      "MultinomialNB Prediction: 2\n"
     ]
    },
    {
     "name": "stderr",
     "output_type": "stream",
     "text": [
      "C:\\Users\\sooda\\anaconda3\\Lib\\site-packages\\sklearn\\base.py:493: UserWarning: X does not have valid feature names, but MultinomialNB was fitted with feature names\n",
      "  warnings.warn(\n"
     ]
    }
   ],
   "source": [
    "prediction = mNB.predict([[0, 3, 0, 2, 0, 0, 1, 6, 0.0, 0.0, 0.0, 0,0]])\n",
    "print(\"MultinomialNB Prediction:\", prediction[0])\n"
   ]
  },
  {
   "cell_type": "code",
   "execution_count": 61,
   "id": "c5c2fbaf-901a-496c-9f96-71b2a281618f",
   "metadata": {},
   "outputs": [
    {
     "data": {
      "text/html": [
       "<div>\n",
       "<style scoped>\n",
       "    .dataframe tbody tr th:only-of-type {\n",
       "        vertical-align: middle;\n",
       "    }\n",
       "\n",
       "    .dataframe tbody tr th {\n",
       "        vertical-align: top;\n",
       "    }\n",
       "\n",
       "    .dataframe thead th {\n",
       "        text-align: right;\n",
       "    }\n",
       "</style>\n",
       "<table border=\"1\" class=\"dataframe\">\n",
       "  <thead>\n",
       "    <tr style=\"text-align: right;\">\n",
       "      <th></th>\n",
       "      <th>Model</th>\n",
       "      <th>Score</th>\n",
       "    </tr>\n",
       "  </thead>\n",
       "  <tbody>\n",
       "    <tr>\n",
       "      <th>0</th>\n",
       "      <td>Linear Regression</td>\n",
       "      <td>0.980822</td>\n",
       "    </tr>\n",
       "    <tr>\n",
       "      <th>1</th>\n",
       "      <td>Decision Tree Classifier</td>\n",
       "      <td>1.000000</td>\n",
       "    </tr>\n",
       "    <tr>\n",
       "      <th>2</th>\n",
       "      <td>RandomForest Classifier</td>\n",
       "      <td>1.000000</td>\n",
       "    </tr>\n",
       "    <tr>\n",
       "      <th>3</th>\n",
       "      <td>Gaussian Navie Bayes</td>\n",
       "      <td>1.000000</td>\n",
       "    </tr>\n",
       "    <tr>\n",
       "      <th>4</th>\n",
       "      <td>Multinomial Navie Bayes</td>\n",
       "      <td>1.000000</td>\n",
       "    </tr>\n",
       "  </tbody>\n",
       "</table>\n",
       "</div>"
      ],
      "text/plain": [
       "                      Model     Score\n",
       "0         Linear Regression  0.980822\n",
       "1  Decision Tree Classifier  1.000000\n",
       "2   RandomForest Classifier  1.000000\n",
       "3      Gaussian Navie Bayes  1.000000\n",
       "4   Multinomial Navie Bayes  1.000000"
      ]
     },
     "execution_count": 61,
     "metadata": {},
     "output_type": "execute_result"
    }
   ],
   "source": [
    "model = pd.DataFrame({\n",
    "    'Model': ['Linear Regression', 'Decision Tree Classifier', 'RandomForest Classifier',\n",
    "              'Gaussian Navie Bayes', 'Multinomial Navie Bayes'],\n",
    "    'Score': [acc_lr, acc_dt, acc_rf, acc_nb, acc_mnb],\n",
    "})\n",
    "\n",
    "model\n"
   ]
  },
  {
   "cell_type": "code",
   "execution_count": 63,
   "id": "3488096c-0c87-4a74-9ca8-93cc31d7d6fc",
   "metadata": {},
   "outputs": [],
   "source": [
    "import pickle\n",
    "import warnings\n",
    "pickle.dump(random_forest,open(\"predictive_pulse_model.pkl\",\"wb\"))"
   ]
  }
 ],
 "metadata": {
  "kernelspec": {
   "display_name": "Python 3 (ipykernel)",
   "language": "python",
   "name": "python3"
  },
  "language_info": {
   "codemirror_mode": {
    "name": "ipython",
    "version": 3
   },
   "file_extension": ".py",
   "mimetype": "text/x-python",
   "name": "python",
   "nbconvert_exporter": "python",
   "pygments_lexer": "ipython3",
   "version": "3.12.7"
  }
 },
 "nbformat": 4,
 "nbformat_minor": 5
}
